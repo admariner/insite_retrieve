{
  "nbformat": 4,
  "nbformat_minor": 0,
  "metadata": {
    "colab": {
      "name": "insite_retrieve.ipynb",
      "provenance": [],
      "collapsed_sections": [],
      "authorship_tag": "ABX9TyM6yhoqOdZ6niEoAywGxHEr",
      "include_colab_link": true
    },
    "kernelspec": {
      "name": "python3",
      "display_name": "Python 3"
    }
  },
  "cells": [
    {
      "cell_type": "markdown",
      "metadata": {
        "id": "view-in-github",
        "colab_type": "text"
      },
      "source": [
        "<a href=\"https://colab.research.google.com/github/wangcongcong123/insite_retrieve/blob/master/insite_retrieve.ipynb\" target=\"_parent\"><img src=\"https://colab.research.google.com/assets/colab-badge.svg\" alt=\"Open In Colab\"/></a>"
      ]
    },
    {
      "cell_type": "markdown",
      "metadata": {
        "id": "Cy01A69zFAew",
        "colab_type": "text"
      },
      "source": [
        "## Clone the project"
      ]
    },
    {
      "cell_type": "code",
      "metadata": {
        "id": "Z7FnHiyG-R5P",
        "colab_type": "code",
        "colab": {
          "base_uri": "https://localhost:8080/",
          "height": 1000
        },
        "outputId": "384ee2e5-c974-4837-d4ab-11ec16f9eb11"
      },
      "source": [
        "!git clone https://github.com/wangcongcong123/insite_retrieve.git\n",
        "%cd insite_retrieve\n",
        "!pip install -r requirements.txt"
      ],
      "execution_count": 41,
      "outputs": [
        {
          "output_type": "stream",
          "text": [
            "Cloning into 'insite_retrieve'...\n",
            "remote: Enumerating objects: 44, done.\u001b[K\n",
            "remote: Counting objects:   2% (1/44)\u001b[K\rremote: Counting objects:   4% (2/44)\u001b[K\rremote: Counting objects:   6% (3/44)\u001b[K\rremote: Counting objects:   9% (4/44)\u001b[K\rremote: Counting objects:  11% (5/44)\u001b[K\rremote: Counting objects:  13% (6/44)\u001b[K\rremote: Counting objects:  15% (7/44)\u001b[K\rremote: Counting objects:  18% (8/44)\u001b[K\rremote: Counting objects:  20% (9/44)\u001b[K\rremote: Counting objects:  22% (10/44)\u001b[K\rremote: Counting objects:  25% (11/44)\u001b[K\rremote: Counting objects:  27% (12/44)\u001b[K\rremote: Counting objects:  29% (13/44)\u001b[K\rremote: Counting objects:  31% (14/44)\u001b[K\rremote: Counting objects:  34% (15/44)\u001b[K\rremote: Counting objects:  36% (16/44)\u001b[K\rremote: Counting objects:  38% (17/44)\u001b[K\rremote: Counting objects:  40% (18/44)\u001b[K\rremote: Counting objects:  43% (19/44)\u001b[K\rremote: Counting objects:  45% (20/44)\u001b[K\rremote: Counting objects:  47% (21/44)\u001b[K\rremote: Counting objects:  50% (22/44)\u001b[K\rremote: Counting objects:  52% (23/44)\u001b[K\rremote: Counting objects:  54% (24/44)\u001b[K\rremote: Counting objects:  56% (25/44)\u001b[K\rremote: Counting objects:  59% (26/44)\u001b[K\rremote: Counting objects:  61% (27/44)\u001b[K\rremote: Counting objects:  63% (28/44)\u001b[K\rremote: Counting objects:  65% (29/44)\u001b[K\rremote: Counting objects:  68% (30/44)\u001b[K\rremote: Counting objects:  70% (31/44)\u001b[K\rremote: Counting objects:  72% (32/44)\u001b[K\rremote: Counting objects:  75% (33/44)\u001b[K\rremote: Counting objects:  77% (34/44)\u001b[K\rremote: Counting objects:  79% (35/44)\u001b[K\rremote: Counting objects:  81% (36/44)\u001b[K\rremote: Counting objects:  84% (37/44)\u001b[K\rremote: Counting objects:  86% (38/44)\u001b[K\rremote: Counting objects:  88% (39/44)\u001b[K\rremote: Counting objects:  90% (40/44)\u001b[K\rremote: Counting objects:  93% (41/44)\u001b[K\rremote: Counting objects:  95% (42/44)\u001b[K\rremote: Counting objects:  97% (43/44)\u001b[K\rremote: Counting objects: 100% (44/44)\u001b[K\rremote: Counting objects: 100% (44/44), done.\u001b[K\n",
            "remote: Compressing objects: 100% (35/35), done.\u001b[K\n",
            "remote: Total 157 (delta 22), reused 21 (delta 9), pack-reused 113\u001b[K\n",
            "Receiving objects: 100% (157/157), 61.61 MiB | 37.20 MiB/s, done.\n",
            "Resolving deltas: 100% (32/32), done.\n",
            "/content/insite_retrieve/insite_retrieve/insite_retrieve/insite_retrieve/insite_retrieve\n",
            "Requirement already satisfied: wordcloud in /usr/local/lib/python3.6/dist-packages (from -r requirements.txt (line 1)) (1.5.0)\n",
            "Requirement already satisfied: tqdm in /usr/local/lib/python3.6/dist-packages (from -r requirements.txt (line 2)) (4.41.1)\n",
            "Requirement already satisfied: streamlit in /usr/local/lib/python3.6/dist-packages (from -r requirements.txt (line 3)) (0.63.1)\n",
            "Requirement already satisfied: beautifulsoup4 in /usr/local/lib/python3.6/dist-packages (from -r requirements.txt (line 4)) (4.6.3)\n",
            "Collecting pyserini==0.9.2.0\n",
            "\u001b[?25l  Downloading https://files.pythonhosted.org/packages/e4/38/59314dc075292dc5ca4bc2435ae1937316cad5a0bc9c4f9af1d0704eb65a/pyserini-0.9.2.0-py3-none-any.whl (57.8MB)\n",
            "\u001b[K     |████████████████████████████████| 57.8MB 65kB/s \n",
            "\u001b[?25hRequirement already satisfied: matplotlib in /usr/local/lib/python3.6/dist-packages (from -r requirements.txt (line 6)) (3.2.2)\n",
            "Requirement already satisfied: pillow in /usr/local/lib/python3.6/dist-packages (from wordcloud->-r requirements.txt (line 1)) (7.0.0)\n",
            "Requirement already satisfied: numpy>=1.6.1 in /usr/local/lib/python3.6/dist-packages (from wordcloud->-r requirements.txt (line 1)) (1.18.5)\n",
            "Requirement already satisfied: botocore>=1.13.44 in /usr/local/lib/python3.6/dist-packages (from streamlit->-r requirements.txt (line 3)) (1.17.20)\n",
            "Requirement already satisfied: enum-compat in /usr/local/lib/python3.6/dist-packages (from streamlit->-r requirements.txt (line 3)) (0.0.3)\n",
            "Requirement already satisfied: watchdog in /usr/local/lib/python3.6/dist-packages (from streamlit->-r requirements.txt (line 3)) (0.10.3)\n",
            "Requirement already satisfied: cachetools>=4.0 in /usr/local/lib/python3.6/dist-packages (from streamlit->-r requirements.txt (line 3)) (4.1.1)\n",
            "Requirement already satisfied: pandas>=0.21.0 in /usr/local/lib/python3.6/dist-packages (from streamlit->-r requirements.txt (line 3)) (1.0.5)\n",
            "Requirement already satisfied: toml in /usr/local/lib/python3.6/dist-packages (from streamlit->-r requirements.txt (line 3)) (0.10.1)\n",
            "Requirement already satisfied: blinker in /usr/local/lib/python3.6/dist-packages (from streamlit->-r requirements.txt (line 3)) (1.4)\n",
            "Requirement already satisfied: base58 in /usr/local/lib/python3.6/dist-packages (from streamlit->-r requirements.txt (line 3)) (2.0.1)\n",
            "Requirement already satisfied: click>=7.0 in /usr/local/lib/python3.6/dist-packages (from streamlit->-r requirements.txt (line 3)) (7.1.2)\n",
            "Requirement already satisfied: pydeck>=0.1.dev5 in /usr/local/lib/python3.6/dist-packages (from streamlit->-r requirements.txt (line 3)) (0.4.0b2)\n",
            "Requirement already satisfied: tzlocal in /usr/local/lib/python3.6/dist-packages (from streamlit->-r requirements.txt (line 3)) (1.5.1)\n",
            "Requirement already satisfied: tornado>=5.0 in /usr/local/lib/python3.6/dist-packages (from streamlit->-r requirements.txt (line 3)) (6.0.4)\n",
            "Requirement already satisfied: protobuf>=3.6.0 in /usr/local/lib/python3.6/dist-packages (from streamlit->-r requirements.txt (line 3)) (3.12.2)\n",
            "Requirement already satisfied: requests in /usr/local/lib/python3.6/dist-packages (from streamlit->-r requirements.txt (line 3)) (2.23.0)\n",
            "Requirement already satisfied: validators in /usr/local/lib/python3.6/dist-packages (from streamlit->-r requirements.txt (line 3)) (0.16.0)\n",
            "Requirement already satisfied: packaging in /usr/local/lib/python3.6/dist-packages (from streamlit->-r requirements.txt (line 3)) (20.4)\n",
            "Requirement already satisfied: pyarrow in /usr/local/lib/python3.6/dist-packages (from streamlit->-r requirements.txt (line 3)) (0.14.1)\n",
            "Requirement already satisfied: python-dateutil in /usr/local/lib/python3.6/dist-packages (from streamlit->-r requirements.txt (line 3)) (2.8.1)\n",
            "Requirement already satisfied: altair>=3.2.0 in /usr/local/lib/python3.6/dist-packages (from streamlit->-r requirements.txt (line 3)) (4.1.0)\n",
            "Requirement already satisfied: astor in /usr/local/lib/python3.6/dist-packages (from streamlit->-r requirements.txt (line 3)) (0.8.1)\n",
            "Requirement already satisfied: boto3 in /usr/local/lib/python3.6/dist-packages (from streamlit->-r requirements.txt (line 3)) (1.14.20)\n",
            "Requirement already satisfied: Cython in /usr/local/lib/python3.6/dist-packages (from pyserini==0.9.2.0->-r requirements.txt (line 5)) (0.29.21)\n",
            "Requirement already satisfied: pyjnius in /usr/local/lib/python3.6/dist-packages (from pyserini==0.9.2.0->-r requirements.txt (line 5)) (1.3.0)\n",
            "Requirement already satisfied: pyparsing!=2.0.4,!=2.1.2,!=2.1.6,>=2.0.1 in /usr/local/lib/python3.6/dist-packages (from matplotlib->-r requirements.txt (line 6)) (2.4.7)\n",
            "Requirement already satisfied: kiwisolver>=1.0.1 in /usr/local/lib/python3.6/dist-packages (from matplotlib->-r requirements.txt (line 6)) (1.2.0)\n",
            "Requirement already satisfied: cycler>=0.10 in /usr/local/lib/python3.6/dist-packages (from matplotlib->-r requirements.txt (line 6)) (0.10.0)\n",
            "Requirement already satisfied: docutils<0.16,>=0.10 in /usr/local/lib/python3.6/dist-packages (from botocore>=1.13.44->streamlit->-r requirements.txt (line 3)) (0.15.2)\n",
            "Requirement already satisfied: jmespath<1.0.0,>=0.7.1 in /usr/local/lib/python3.6/dist-packages (from botocore>=1.13.44->streamlit->-r requirements.txt (line 3)) (0.10.0)\n",
            "Requirement already satisfied: urllib3<1.26,>=1.20; python_version != \"3.4\" in /usr/local/lib/python3.6/dist-packages (from botocore>=1.13.44->streamlit->-r requirements.txt (line 3)) (1.24.3)\n",
            "Requirement already satisfied: pathtools>=0.1.1 in /usr/local/lib/python3.6/dist-packages (from watchdog->streamlit->-r requirements.txt (line 3)) (0.1.2)\n",
            "Requirement already satisfied: pytz>=2017.2 in /usr/local/lib/python3.6/dist-packages (from pandas>=0.21.0->streamlit->-r requirements.txt (line 3)) (2018.9)\n",
            "Requirement already satisfied: ipywidgets>=7.0.0 in /usr/local/lib/python3.6/dist-packages (from pydeck>=0.1.dev5->streamlit->-r requirements.txt (line 3)) (7.5.1)\n",
            "Requirement already satisfied: jinja2>=2.10.1 in /usr/local/lib/python3.6/dist-packages (from pydeck>=0.1.dev5->streamlit->-r requirements.txt (line 3)) (2.11.2)\n",
            "Requirement already satisfied: ipykernel>=5.1.2; python_version >= \"3.4\" in /usr/local/lib/python3.6/dist-packages (from pydeck>=0.1.dev5->streamlit->-r requirements.txt (line 3)) (5.3.3)\n",
            "Requirement already satisfied: traitlets>=4.3.2 in /usr/local/lib/python3.6/dist-packages (from pydeck>=0.1.dev5->streamlit->-r requirements.txt (line 3)) (4.3.3)\n",
            "Requirement already satisfied: six>=1.9 in /usr/local/lib/python3.6/dist-packages (from protobuf>=3.6.0->streamlit->-r requirements.txt (line 3)) (1.12.0)\n",
            "Requirement already satisfied: setuptools in /usr/local/lib/python3.6/dist-packages (from protobuf>=3.6.0->streamlit->-r requirements.txt (line 3)) (49.1.0)\n",
            "Requirement already satisfied: chardet<4,>=3.0.2 in /usr/local/lib/python3.6/dist-packages (from requests->streamlit->-r requirements.txt (line 3)) (3.0.4)\n",
            "Requirement already satisfied: idna<3,>=2.5 in /usr/local/lib/python3.6/dist-packages (from requests->streamlit->-r requirements.txt (line 3)) (2.10)\n",
            "Requirement already satisfied: certifi>=2017.4.17 in /usr/local/lib/python3.6/dist-packages (from requests->streamlit->-r requirements.txt (line 3)) (2020.6.20)\n",
            "Requirement already satisfied: decorator>=3.4.0 in /usr/local/lib/python3.6/dist-packages (from validators->streamlit->-r requirements.txt (line 3)) (4.4.2)\n",
            "Requirement already satisfied: toolz in /usr/local/lib/python3.6/dist-packages (from altair>=3.2.0->streamlit->-r requirements.txt (line 3)) (0.10.0)\n",
            "Requirement already satisfied: jsonschema in /usr/local/lib/python3.6/dist-packages (from altair>=3.2.0->streamlit->-r requirements.txt (line 3)) (2.6.0)\n",
            "Requirement already satisfied: entrypoints in /usr/local/lib/python3.6/dist-packages (from altair>=3.2.0->streamlit->-r requirements.txt (line 3)) (0.3)\n",
            "Requirement already satisfied: s3transfer<0.4.0,>=0.3.0 in /usr/local/lib/python3.6/dist-packages (from boto3->streamlit->-r requirements.txt (line 3)) (0.3.3)\n",
            "Requirement already satisfied: widgetsnbextension~=3.5.0 in /usr/local/lib/python3.6/dist-packages (from ipywidgets>=7.0.0->pydeck>=0.1.dev5->streamlit->-r requirements.txt (line 3)) (3.5.1)\n",
            "Requirement already satisfied: nbformat>=4.2.0 in /usr/local/lib/python3.6/dist-packages (from ipywidgets>=7.0.0->pydeck>=0.1.dev5->streamlit->-r requirements.txt (line 3)) (5.0.7)\n",
            "Requirement already satisfied: ipython>=4.0.0; python_version >= \"3.3\" in /usr/local/lib/python3.6/dist-packages (from ipywidgets>=7.0.0->pydeck>=0.1.dev5->streamlit->-r requirements.txt (line 3)) (5.5.0)\n",
            "Requirement already satisfied: MarkupSafe>=0.23 in /usr/local/lib/python3.6/dist-packages (from jinja2>=2.10.1->pydeck>=0.1.dev5->streamlit->-r requirements.txt (line 3)) (1.1.1)\n",
            "Requirement already satisfied: jupyter-client in /usr/local/lib/python3.6/dist-packages (from ipykernel>=5.1.2; python_version >= \"3.4\"->pydeck>=0.1.dev5->streamlit->-r requirements.txt (line 3)) (5.3.5)\n",
            "Requirement already satisfied: ipython-genutils in /usr/local/lib/python3.6/dist-packages (from traitlets>=4.3.2->pydeck>=0.1.dev5->streamlit->-r requirements.txt (line 3)) (0.2.0)\n",
            "Requirement already satisfied: notebook>=4.4.1 in /usr/local/lib/python3.6/dist-packages (from widgetsnbextension~=3.5.0->ipywidgets>=7.0.0->pydeck>=0.1.dev5->streamlit->-r requirements.txt (line 3)) (5.2.2)\n",
            "Requirement already satisfied: jupyter-core in /usr/local/lib/python3.6/dist-packages (from nbformat>=4.2.0->ipywidgets>=7.0.0->pydeck>=0.1.dev5->streamlit->-r requirements.txt (line 3)) (4.6.3)\n",
            "Requirement already satisfied: prompt-toolkit<2.0.0,>=1.0.4 in /usr/local/lib/python3.6/dist-packages (from ipython>=4.0.0; python_version >= \"3.3\"->ipywidgets>=7.0.0->pydeck>=0.1.dev5->streamlit->-r requirements.txt (line 3)) (1.0.18)\n",
            "Requirement already satisfied: pickleshare in /usr/local/lib/python3.6/dist-packages (from ipython>=4.0.0; python_version >= \"3.3\"->ipywidgets>=7.0.0->pydeck>=0.1.dev5->streamlit->-r requirements.txt (line 3)) (0.7.5)\n",
            "Requirement already satisfied: simplegeneric>0.8 in /usr/local/lib/python3.6/dist-packages (from ipython>=4.0.0; python_version >= \"3.3\"->ipywidgets>=7.0.0->pydeck>=0.1.dev5->streamlit->-r requirements.txt (line 3)) (0.8.1)\n",
            "Requirement already satisfied: pexpect; sys_platform != \"win32\" in /usr/local/lib/python3.6/dist-packages (from ipython>=4.0.0; python_version >= \"3.3\"->ipywidgets>=7.0.0->pydeck>=0.1.dev5->streamlit->-r requirements.txt (line 3)) (4.8.0)\n",
            "Requirement already satisfied: pygments in /usr/local/lib/python3.6/dist-packages (from ipython>=4.0.0; python_version >= \"3.3\"->ipywidgets>=7.0.0->pydeck>=0.1.dev5->streamlit->-r requirements.txt (line 3)) (2.1.3)\n",
            "Requirement already satisfied: pyzmq>=13 in /usr/local/lib/python3.6/dist-packages (from jupyter-client->ipykernel>=5.1.2; python_version >= \"3.4\"->pydeck>=0.1.dev5->streamlit->-r requirements.txt (line 3)) (19.0.1)\n",
            "Requirement already satisfied: nbconvert in /usr/local/lib/python3.6/dist-packages (from notebook>=4.4.1->widgetsnbextension~=3.5.0->ipywidgets>=7.0.0->pydeck>=0.1.dev5->streamlit->-r requirements.txt (line 3)) (5.6.1)\n",
            "Requirement already satisfied: terminado>=0.3.3; sys_platform != \"win32\" in /usr/local/lib/python3.6/dist-packages (from notebook>=4.4.1->widgetsnbextension~=3.5.0->ipywidgets>=7.0.0->pydeck>=0.1.dev5->streamlit->-r requirements.txt (line 3)) (0.8.3)\n",
            "Requirement already satisfied: wcwidth in /usr/local/lib/python3.6/dist-packages (from prompt-toolkit<2.0.0,>=1.0.4->ipython>=4.0.0; python_version >= \"3.3\"->ipywidgets>=7.0.0->pydeck>=0.1.dev5->streamlit->-r requirements.txt (line 3)) (0.2.5)\n",
            "Requirement already satisfied: ptyprocess>=0.5 in /usr/local/lib/python3.6/dist-packages (from pexpect; sys_platform != \"win32\"->ipython>=4.0.0; python_version >= \"3.3\"->ipywidgets>=7.0.0->pydeck>=0.1.dev5->streamlit->-r requirements.txt (line 3)) (0.6.0)\n",
            "Requirement already satisfied: mistune<2,>=0.8.1 in /usr/local/lib/python3.6/dist-packages (from nbconvert->notebook>=4.4.1->widgetsnbextension~=3.5.0->ipywidgets>=7.0.0->pydeck>=0.1.dev5->streamlit->-r requirements.txt (line 3)) (0.8.4)\n",
            "Requirement already satisfied: pandocfilters>=1.4.1 in /usr/local/lib/python3.6/dist-packages (from nbconvert->notebook>=4.4.1->widgetsnbextension~=3.5.0->ipywidgets>=7.0.0->pydeck>=0.1.dev5->streamlit->-r requirements.txt (line 3)) (1.4.2)\n",
            "Requirement already satisfied: defusedxml in /usr/local/lib/python3.6/dist-packages (from nbconvert->notebook>=4.4.1->widgetsnbextension~=3.5.0->ipywidgets>=7.0.0->pydeck>=0.1.dev5->streamlit->-r requirements.txt (line 3)) (0.6.0)\n",
            "Requirement already satisfied: bleach in /usr/local/lib/python3.6/dist-packages (from nbconvert->notebook>=4.4.1->widgetsnbextension~=3.5.0->ipywidgets>=7.0.0->pydeck>=0.1.dev5->streamlit->-r requirements.txt (line 3)) (3.1.5)\n",
            "Requirement already satisfied: testpath in /usr/local/lib/python3.6/dist-packages (from nbconvert->notebook>=4.4.1->widgetsnbextension~=3.5.0->ipywidgets>=7.0.0->pydeck>=0.1.dev5->streamlit->-r requirements.txt (line 3)) (0.4.4)\n",
            "Requirement already satisfied: webencodings in /usr/local/lib/python3.6/dist-packages (from bleach->nbconvert->notebook>=4.4.1->widgetsnbextension~=3.5.0->ipywidgets>=7.0.0->pydeck>=0.1.dev5->streamlit->-r requirements.txt (line 3)) (0.5.1)\n",
            "Installing collected packages: pyserini\n",
            "  Found existing installation: pyserini 0.9.4.0\n",
            "    Uninstalling pyserini-0.9.4.0:\n",
            "      Successfully uninstalled pyserini-0.9.4.0\n",
            "Successfully installed pyserini-0.9.2.0\n"
          ],
          "name": "stdout"
        }
      ]
    },
    {
      "cell_type": "markdown",
      "metadata": {
        "id": "J6gRQ68YFHNe",
        "colab_type": "text"
      },
      "source": [
        "## Install Anserini"
      ]
    },
    {
      "cell_type": "code",
      "metadata": {
        "id": "oc-0f5_G_sWk",
        "colab_type": "code",
        "colab": {
          "base_uri": "https://localhost:8080/",
          "height": 1000
        },
        "outputId": "a9a8c4c7-95e0-458a-eedd-254186868c22"
      },
      "source": [
        "!apt-get install maven -qq\n",
        "!git clone https://github.com/castorini/anserini.git\n",
        "%cd anserini\n",
        "!mvn clean package appassembler:assemble -DskipTests -Dmaven.javadoc.skip=true\n",
        "%cd .."
      ],
      "execution_count": 42,
      "outputs": [
        {
          "output_type": "stream",
          "text": [
            "Cloning into 'anserini'...\n",
            "remote: Enumerating objects: 46, done.\u001b[K\n",
            "remote: Counting objects:   2% (1/46)\u001b[K\rremote: Counting objects:   4% (2/46)\u001b[K\rremote: Counting objects:   6% (3/46)\u001b[K\rremote: Counting objects:   8% (4/46)\u001b[K\rremote: Counting objects:  10% (5/46)\u001b[K\rremote: Counting objects:  13% (6/46)\u001b[K\rremote: Counting objects:  15% (7/46)\u001b[K\rremote: Counting objects:  17% (8/46)\u001b[K\rremote: Counting objects:  19% (9/46)\u001b[K\rremote: Counting objects:  21% (10/46)\u001b[K\rremote: Counting objects:  23% (11/46)\u001b[K\rremote: Counting objects:  26% (12/46)\u001b[K\rremote: Counting objects:  28% (13/46)\u001b[K\rremote: Counting objects:  30% (14/46)\u001b[K\rremote: Counting objects:  32% (15/46)\u001b[K\rremote: Counting objects:  34% (16/46)\u001b[K\rremote: Counting objects:  36% (17/46)\u001b[K\rremote: Counting objects:  39% (18/46)\u001b[K\rremote: Counting objects:  41% (19/46)\u001b[K\rremote: Counting objects:  43% (20/46)\u001b[K\rremote: Counting objects:  45% (21/46)\u001b[K\rremote: Counting objects:  47% (22/46)\u001b[K\rremote: Counting objects:  50% (23/46)\u001b[K\rremote: Counting objects:  52% (24/46)\u001b[K\rremote: Counting objects:  54% (25/46)\u001b[K\rremote: Counting objects:  56% (26/46)\u001b[K\rremote: Counting objects:  58% (27/46)\u001b[K\rremote: Counting objects:  60% (28/46)\rremote: Counting objects:  63% (29/46)\u001b[K\rremote: Counting objects:  65% (30/46)\u001b[K\rremote: Counting objects:  67% (31/46)\u001b[K\rremote: Counting objects:  69% (32/46)\u001b[K\rremote: Counting objects:  71% (33/46)\u001b[K\rremote: Counting objects:  73% (34/46)\u001b[K\rremote: Counting objects:  76% (35/46)\u001b[K\rremote: Counting objects:  78% (36/46)\u001b[K\rremote: Counting objects:  80% (37/46)\u001b[K\rremote: Counting objects:  82% (38/46)\u001b[K\rremote: Counting objects:  84% (39/46)\u001b[K\rremote: Counting objects:  86% (40/46)\u001b[K\rremote: Counting objects:  89% (41/46)\u001b[K\rremote: Counting objects:  91% (42/46)\u001b[K\rremote: Counting objects:  93% (43/46)\u001b[K\rremote: Counting objects:  95% (44/46)\u001b[K\rremote: Counting objects:  97% (45/46)\u001b[K\rremote: Counting objects: 100% (46/46)\u001b[K\rremote: Counting objects: 100% (46/46), done.\u001b[K\n",
            "remote: Compressing objects: 100% (42/42), done.\u001b[K\n",
            "remote: Total 14222 (delta 12), reused 18 (delta 0), pack-reused 14176\u001b[K\n",
            "Receiving objects: 100% (14222/14222), 21.39 MiB | 20.19 MiB/s, done.\n",
            "Resolving deltas: 100% (8036/8036), done.\n",
            "/content/insite_retrieve/insite_retrieve/insite_retrieve/insite_retrieve/insite_retrieve/anserini\n",
            "WARNING: An illegal reflective access operation has occurred\n",
            "WARNING: Illegal reflective access by com.google.inject.internal.cglib.core.$ReflectUtils$1 (file:/usr/share/maven/lib/guice.jar) to method java.lang.ClassLoader.defineClass(java.lang.String,byte[],int,int,java.security.ProtectionDomain)\n",
            "WARNING: Please consider reporting this to the maintainers of com.google.inject.internal.cglib.core.$ReflectUtils$1\n",
            "WARNING: Use --illegal-access=warn to enable warnings of further illegal reflective access operations\n",
            "WARNING: All illegal access operations will be denied in a future release\n",
            "[\u001b[1;34mINFO\u001b[m] Scanning for projects...\n",
            "[\u001b[1;34mINFO\u001b[m] \n",
            "[\u001b[1;34mINFO\u001b[m] \u001b[1m------------------------< \u001b[0;36mio.anserini:anserini\u001b[0;1m >------------------------\u001b[m\n",
            "[\u001b[1;34mINFO\u001b[m] \u001b[1mBuilding Anserini 0.9.5-SNAPSHOT\u001b[m\n",
            "[\u001b[1;34mINFO\u001b[m] \u001b[1m--------------------------------[ jar ]---------------------------------\u001b[m\n",
            "[\u001b[1;34mINFO\u001b[m] \n",
            "[\u001b[1;34mINFO\u001b[m] \u001b[1m--- \u001b[0;32mmaven-clean-plugin:2.5:clean\u001b[m \u001b[1m(default-clean)\u001b[m @ \u001b[36manserini\u001b[0;1m ---\u001b[m\n",
            "[\u001b[1;34mINFO\u001b[m] \n",
            "[\u001b[1;34mINFO\u001b[m] \u001b[1m--- \u001b[0;32mjacoco-maven-plugin:0.8.2:prepare-agent\u001b[m \u001b[1m(default)\u001b[m @ \u001b[36manserini\u001b[0;1m ---\u001b[m\n",
            "[\u001b[1;34mINFO\u001b[m] argLine set to -javaagent:/root/.m2/repository/org/jacoco/org.jacoco.agent/0.8.2/org.jacoco.agent-0.8.2-runtime.jar=destfile=/content/insite_retrieve/insite_retrieve/insite_retrieve/insite_retrieve/insite_retrieve/anserini/target/jacoco.exec\n",
            "[\u001b[1;34mINFO\u001b[m] \n",
            "[\u001b[1;34mINFO\u001b[m] \u001b[1m--- \u001b[0;32mmaven-resources-plugin:2.6:resources\u001b[m \u001b[1m(default-resources)\u001b[m @ \u001b[36manserini\u001b[0;1m ---\u001b[m\n",
            "[\u001b[1;34mINFO\u001b[m] Using 'UTF-8' encoding to copy filtered resources.\n",
            "[\u001b[1;34mINFO\u001b[m] Copying 218 resources\n",
            "[\u001b[1;34mINFO\u001b[m] \n",
            "[\u001b[1;34mINFO\u001b[m] \u001b[1m--- \u001b[0;32mmaven-compiler-plugin:3.8.1:compile\u001b[m \u001b[1m(default-compile)\u001b[m @ \u001b[36manserini\u001b[0;1m ---\u001b[m\n",
            "[\u001b[1;34mINFO\u001b[m] Changes detected - recompiling the module!\n",
            "[\u001b[1;34mINFO\u001b[m] Compiling 158 source files to /content/insite_retrieve/insite_retrieve/insite_retrieve/insite_retrieve/insite_retrieve/anserini/target/classes\n",
            "[\u001b[1;34mINFO\u001b[m] \n",
            "[\u001b[1;34mINFO\u001b[m] \u001b[1m--- \u001b[0;32mmaven-resources-plugin:2.6:testResources\u001b[m \u001b[1m(default-testResources)\u001b[m @ \u001b[36manserini\u001b[0;1m ---\u001b[m\n",
            "[\u001b[1;34mINFO\u001b[m] Using 'UTF-8' encoding to copy filtered resources.\n",
            "[\u001b[1;34mINFO\u001b[m] Copying 47 resources\n",
            "[\u001b[1;34mINFO\u001b[m] \n",
            "[\u001b[1;34mINFO\u001b[m] \u001b[1m--- \u001b[0;32mmaven-compiler-plugin:3.8.1:testCompile\u001b[m \u001b[1m(default-testCompile)\u001b[m @ \u001b[36manserini\u001b[0;1m ---\u001b[m\n",
            "[\u001b[1;34mINFO\u001b[m] Changes detected - recompiling the module!\n",
            "[\u001b[1;34mINFO\u001b[m] Compiling 100 source files to /content/insite_retrieve/insite_retrieve/insite_retrieve/insite_retrieve/insite_retrieve/anserini/target/test-classes\n",
            "[\u001b[1;34mINFO\u001b[m] \n",
            "[\u001b[1;34mINFO\u001b[m] \u001b[1m--- \u001b[0;32mmaven-surefire-plugin:2.12.4:test\u001b[m \u001b[1m(default-test)\u001b[m @ \u001b[36manserini\u001b[0;1m ---\u001b[m\n",
            "[\u001b[1;34mINFO\u001b[m] Tests are skipped.\n",
            "[\u001b[1;34mINFO\u001b[m] \n",
            "[\u001b[1;34mINFO\u001b[m] \u001b[1m--- \u001b[0;32mjacoco-maven-plugin:0.8.2:report\u001b[m \u001b[1m(report)\u001b[m @ \u001b[36manserini\u001b[0;1m ---\u001b[m\n",
            "[\u001b[1;34mINFO\u001b[m] Skipping JaCoCo execution due to missing execution data file.\n",
            "[\u001b[1;34mINFO\u001b[m] \n",
            "[\u001b[1;34mINFO\u001b[m] \u001b[1m--- \u001b[0;32mmaven-jar-plugin:2.4:jar\u001b[m \u001b[1m(default-jar)\u001b[m @ \u001b[36manserini\u001b[0;1m ---\u001b[m\n",
            "[\u001b[1;34mINFO\u001b[m] Building jar: /content/insite_retrieve/insite_retrieve/insite_retrieve/insite_retrieve/insite_retrieve/anserini/target/anserini-0.9.5-SNAPSHOT.jar\n",
            "[\u001b[1;34mINFO\u001b[m] \n",
            "[\u001b[1;34mINFO\u001b[m] \u001b[1m--- \u001b[0;32mmaven-javadoc-plugin:3.1.0:jar\u001b[m \u001b[1m(attach-javadocs)\u001b[m @ \u001b[36manserini\u001b[0;1m ---\u001b[m\n",
            "[\u001b[1;34mINFO\u001b[m] Skipping javadoc generation\n",
            "[\u001b[1;34mINFO\u001b[m] \n",
            "[\u001b[1;34mINFO\u001b[m] \u001b[1m--- \u001b[0;32mmaven-shade-plugin:3.2.1:shade\u001b[m \u001b[1m(default)\u001b[m @ \u001b[36manserini\u001b[0;1m ---\u001b[m\n",
            "[\u001b[1;34mINFO\u001b[m] Including org.apache.lucene:lucene-core:jar:8.3.0 in the shaded jar.\n",
            "[\u001b[1;34mINFO\u001b[m] Including org.apache.solr:solr-solrj:jar:8.3.0 in the shaded jar.\n",
            "[\u001b[1;34mINFO\u001b[m] Including commons-io:commons-io:jar:2.5 in the shaded jar.\n",
            "[\u001b[1;34mINFO\u001b[m] Including io.netty:netty-buffer:jar:4.1.29.Final in the shaded jar.\n",
            "[\u001b[1;34mINFO\u001b[m] Including io.netty:netty-codec:jar:4.1.29.Final in the shaded jar.\n",
            "[\u001b[1;34mINFO\u001b[m] Including io.netty:netty-common:jar:4.1.29.Final in the shaded jar.\n",
            "[\u001b[1;34mINFO\u001b[m] Including io.netty:netty-handler:jar:4.1.29.Final in the shaded jar.\n",
            "[\u001b[1;34mINFO\u001b[m] Including io.netty:netty-resolver:jar:4.1.29.Final in the shaded jar.\n",
            "[\u001b[1;34mINFO\u001b[m] Including io.netty:netty-transport:jar:4.1.29.Final in the shaded jar.\n",
            "[\u001b[1;34mINFO\u001b[m] Including io.netty:netty-transport-native-epoll:jar:4.1.29.Final in the shaded jar.\n",
            "[\u001b[1;34mINFO\u001b[m] Including io.netty:netty-transport-native-unix-common:jar:4.1.29.Final in the shaded jar.\n",
            "[\u001b[1;34mINFO\u001b[m] Including org.apache.commons:commons-math3:jar:3.6.1 in the shaded jar.\n",
            "[\u001b[1;34mINFO\u001b[m] Including org.apache.httpcomponents:httpclient:jar:4.5.6 in the shaded jar.\n",
            "[\u001b[1;34mINFO\u001b[m] Including org.apache.httpcomponents:httpcore:jar:4.4.10 in the shaded jar.\n",
            "[\u001b[1;34mINFO\u001b[m] Including org.apache.httpcomponents:httpmime:jar:4.5.6 in the shaded jar.\n",
            "[\u001b[1;34mINFO\u001b[m] Including org.apache.zookeeper:zookeeper:jar:3.5.5 in the shaded jar.\n",
            "[\u001b[1;34mINFO\u001b[m] Including org.apache.zookeeper:zookeeper-jute:jar:3.5.5 in the shaded jar.\n",
            "[\u001b[1;34mINFO\u001b[m] Including org.codehaus.woodstox:stax2-api:jar:3.1.4 in the shaded jar.\n",
            "[\u001b[1;34mINFO\u001b[m] Including org.codehaus.woodstox:woodstox-core-asl:jar:4.4.1 in the shaded jar.\n",
            "[\u001b[1;34mINFO\u001b[m] Including org.eclipse.jetty:jetty-alpn-client:jar:9.4.19.v20190610 in the shaded jar.\n",
            "[\u001b[1;34mINFO\u001b[m] Including org.eclipse.jetty:jetty-alpn-java-client:jar:9.4.19.v20190610 in the shaded jar.\n",
            "[\u001b[1;34mINFO\u001b[m] Including org.eclipse.jetty:jetty-client:jar:9.4.19.v20190610 in the shaded jar.\n",
            "[\u001b[1;34mINFO\u001b[m] Including org.eclipse.jetty:jetty-http:jar:9.4.19.v20190610 in the shaded jar.\n",
            "[\u001b[1;34mINFO\u001b[m] Including org.eclipse.jetty:jetty-io:jar:9.4.19.v20190610 in the shaded jar.\n",
            "[\u001b[1;34mINFO\u001b[m] Including org.eclipse.jetty:jetty-util:jar:9.4.19.v20190610 in the shaded jar.\n",
            "[\u001b[1;34mINFO\u001b[m] Including org.eclipse.jetty.http2:http2-client:jar:9.4.19.v20190610 in the shaded jar.\n",
            "[\u001b[1;34mINFO\u001b[m] Including org.eclipse.jetty.http2:http2-common:jar:9.4.19.v20190610 in the shaded jar.\n",
            "[\u001b[1;34mINFO\u001b[m] Including org.eclipse.jetty.http2:http2-hpack:jar:9.4.19.v20190610 in the shaded jar.\n",
            "[\u001b[1;34mINFO\u001b[m] Including org.eclipse.jetty.http2:http2-http-client-transport:jar:9.4.19.v20190610 in the shaded jar.\n",
            "[\u001b[1;34mINFO\u001b[m] Including org.slf4j:jcl-over-slf4j:jar:1.7.24 in the shaded jar.\n",
            "[\u001b[1;34mINFO\u001b[m] Including org.slf4j:slf4j-api:jar:1.7.24 in the shaded jar.\n",
            "[\u001b[1;34mINFO\u001b[m] Including org.elasticsearch.client:elasticsearch-rest-high-level-client:jar:7.0.0 in the shaded jar.\n",
            "[\u001b[1;34mINFO\u001b[m] Including org.elasticsearch:elasticsearch:jar:7.0.0 in the shaded jar.\n",
            "[\u001b[1;34mINFO\u001b[m] Including org.elasticsearch:elasticsearch-core:jar:7.0.0 in the shaded jar.\n",
            "[\u001b[1;34mINFO\u001b[m] Including org.elasticsearch:elasticsearch-secure-sm:jar:7.0.0 in the shaded jar.\n",
            "[\u001b[1;34mINFO\u001b[m] Including org.elasticsearch:elasticsearch-x-content:jar:7.0.0 in the shaded jar.\n",
            "[\u001b[1;34mINFO\u001b[m] Including com.fasterxml.jackson.dataformat:jackson-dataformat-smile:jar:2.8.11 in the shaded jar.\n",
            "[\u001b[1;34mINFO\u001b[m] Including com.fasterxml.jackson.dataformat:jackson-dataformat-cbor:jar:2.8.11 in the shaded jar.\n",
            "[\u001b[1;34mINFO\u001b[m] Including org.elasticsearch:elasticsearch-geo:jar:7.0.0 in the shaded jar.\n",
            "[\u001b[1;34mINFO\u001b[m] Including org.apache.lucene:lucene-analyzers-common:jar:8.0.0 in the shaded jar.\n",
            "[\u001b[1;34mINFO\u001b[m] Including org.apache.lucene:lucene-backward-codecs:jar:8.0.0 in the shaded jar.\n",
            "[\u001b[1;34mINFO\u001b[m] Including org.apache.lucene:lucene-grouping:jar:8.0.0 in the shaded jar.\n",
            "[\u001b[1;34mINFO\u001b[m] Including org.apache.lucene:lucene-highlighter:jar:8.0.0 in the shaded jar.\n",
            "[\u001b[1;34mINFO\u001b[m] Including org.apache.lucene:lucene-join:jar:8.0.0 in the shaded jar.\n",
            "[\u001b[1;34mINFO\u001b[m] Including org.apache.lucene:lucene-memory:jar:8.0.0 in the shaded jar.\n",
            "[\u001b[1;34mINFO\u001b[m] Including org.apache.lucene:lucene-misc:jar:8.0.0 in the shaded jar.\n",
            "[\u001b[1;34mINFO\u001b[m] Including org.apache.lucene:lucene-queries:jar:8.0.0 in the shaded jar.\n",
            "[\u001b[1;34mINFO\u001b[m] Including org.apache.lucene:lucene-queryparser:jar:8.0.0 in the shaded jar.\n",
            "[\u001b[1;34mINFO\u001b[m] Including org.apache.lucene:lucene-sandbox:jar:8.0.0 in the shaded jar.\n",
            "[\u001b[1;34mINFO\u001b[m] Including org.apache.lucene:lucene-spatial:jar:8.0.0 in the shaded jar.\n",
            "[\u001b[1;34mINFO\u001b[m] Including org.apache.lucene:lucene-spatial-extras:jar:8.0.0 in the shaded jar.\n",
            "[\u001b[1;34mINFO\u001b[m] Including org.apache.lucene:lucene-spatial3d:jar:8.0.0 in the shaded jar.\n",
            "[\u001b[1;34mINFO\u001b[m] Including org.apache.lucene:lucene-suggest:jar:8.0.0 in the shaded jar.\n",
            "[\u001b[1;34mINFO\u001b[m] Including org.elasticsearch:elasticsearch-cli:jar:7.0.0 in the shaded jar.\n",
            "[\u001b[1;34mINFO\u001b[m] Including net.sf.jopt-simple:jopt-simple:jar:5.0.2 in the shaded jar.\n",
            "[\u001b[1;34mINFO\u001b[m] Including com.carrotsearch:hppc:jar:0.7.1 in the shaded jar.\n",
            "[\u001b[1;34mINFO\u001b[m] Including joda-time:joda-time:jar:2.10.1 in the shaded jar.\n",
            "[\u001b[1;34mINFO\u001b[m] Including com.tdunning:t-digest:jar:3.2 in the shaded jar.\n",
            "[\u001b[1;34mINFO\u001b[m] Including org.hdrhistogram:HdrHistogram:jar:2.1.9 in the shaded jar.\n",
            "[\u001b[1;34mINFO\u001b[m] Including org.elasticsearch:jna:jar:4.5.1 in the shaded jar.\n",
            "[\u001b[1;34mINFO\u001b[m] Including org.elasticsearch.client:elasticsearch-rest-client:jar:7.0.0 in the shaded jar.\n",
            "[\u001b[1;34mINFO\u001b[m] Including org.apache.httpcomponents:httpasyncclient:jar:4.1.4 in the shaded jar.\n",
            "[\u001b[1;34mINFO\u001b[m] Including org.apache.httpcomponents:httpcore-nio:jar:4.4.11 in the shaded jar.\n",
            "[\u001b[1;34mINFO\u001b[m] Including commons-codec:commons-codec:jar:1.11 in the shaded jar.\n",
            "[\u001b[1;34mINFO\u001b[m] Including commons-logging:commons-logging:jar:1.1.3 in the shaded jar.\n",
            "[\u001b[1;34mINFO\u001b[m] Including org.elasticsearch.plugin:parent-join-client:jar:7.0.0 in the shaded jar.\n",
            "[\u001b[1;34mINFO\u001b[m] Including org.elasticsearch.plugin:aggs-matrix-stats-client:jar:7.0.0 in the shaded jar.\n",
            "[\u001b[1;34mINFO\u001b[m] Including org.elasticsearch.plugin:rank-eval-client:jar:7.0.0 in the shaded jar.\n",
            "[\u001b[1;34mINFO\u001b[m] Including org.elasticsearch.plugin:lang-mustache-client:jar:7.0.0 in the shaded jar.\n",
            "[\u001b[1;34mINFO\u001b[m] Including com.github.spullara.mustache.java:compiler:jar:0.9.3 in the shaded jar.\n",
            "[\u001b[1;34mINFO\u001b[m] Including org.tukaani:xz:jar:1.5 in the shaded jar.\n",
            "[\u001b[1;34mINFO\u001b[m] Including com.fasterxml.jackson.core:jackson-databind:jar:2.10.0.pr1 in the shaded jar.\n",
            "[\u001b[1;34mINFO\u001b[m] Including com.fasterxml.jackson.core:jackson-annotations:jar:2.10.0.pr1 in the shaded jar.\n",
            "[\u001b[1;34mINFO\u001b[m] Including com.fasterxml.jackson.core:jackson-core:jar:2.10.0.pr1 in the shaded jar.\n",
            "[\u001b[1;34mINFO\u001b[m] Including com.fasterxml.jackson.datatype:jackson-datatype-jdk8:jar:2.10.0.pr1 in the shaded jar.\n",
            "[\u001b[1;34mINFO\u001b[m] Including com.fasterxml.jackson.dataformat:jackson-dataformat-yaml:jar:2.10.0.pr1 in the shaded jar.\n",
            "[\u001b[1;34mINFO\u001b[m] Including org.yaml:snakeyaml:jar:1.24 in the shaded jar.\n",
            "[\u001b[1;34mINFO\u001b[m] Including org.jsoup:jsoup:jar:1.8.3 in the shaded jar.\n",
            "[\u001b[1;34mINFO\u001b[m] Including args4j:args4j:jar:2.32 in the shaded jar.\n",
            "[\u001b[1;34mINFO\u001b[m] Including org.apache.logging.log4j:log4j-api:jar:2.12.1 in the shaded jar.\n",
            "[\u001b[1;34mINFO\u001b[m] Including org.apache.logging.log4j:log4j-core:jar:2.12.1 in the shaded jar.\n",
            "[\u001b[1;34mINFO\u001b[m] Including org.slf4j:slf4j-simple:jar:1.7.29 in the shaded jar.\n",
            "[\u001b[1;34mINFO\u001b[m] Including io.anserini:anserini-fastutil:jar:6.5.6 in the shaded jar.\n",
            "[\u001b[1;34mINFO\u001b[m] Including org.wikiclean:wikiclean:jar:1.1 in the shaded jar.\n",
            "[\u001b[1;34mINFO\u001b[m] Including org.apache.commons:commons-lang3:jar:3.5 in the shaded jar.\n",
            "[\u001b[1;34mINFO\u001b[m] Including org.apache.ant:ant:jar:1.9.1 in the shaded jar.\n",
            "[\u001b[1;34mINFO\u001b[m] Including org.apache.ant:ant-launcher:jar:1.9.1 in the shaded jar.\n",
            "[\u001b[1;34mINFO\u001b[m] Including org.openrdf.sesame:sesame-rio-ntriples:jar:4.1.2 in the shaded jar.\n",
            "[\u001b[1;34mINFO\u001b[m] Including org.openrdf.sesame:sesame-model:jar:4.1.2 in the shaded jar.\n",
            "[\u001b[1;34mINFO\u001b[m] Including org.openrdf.sesame:sesame-util:jar:4.1.2 in the shaded jar.\n",
            "[\u001b[1;34mINFO\u001b[m] Including com.google.guava:guava:jar:18.0 in the shaded jar.\n",
            "[\u001b[1;34mINFO\u001b[m] Including org.openrdf.sesame:sesame-rio-api:jar:4.1.2 in the shaded jar.\n",
            "[\u001b[1;34mINFO\u001b[m] Including org.openrdf.sesame:sesame-rio-datatypes:jar:4.1.2 in the shaded jar.\n",
            "[\u001b[1;34mINFO\u001b[m] Including org.openrdf.sesame:sesame-rio-languages:jar:4.1.2 in the shaded jar.\n",
            "[\u001b[1;34mINFO\u001b[m] Including com.twitter.twittertext:twitter-text:jar:2.0.10 in the shaded jar.\n",
            "[\u001b[1;34mINFO\u001b[m] Including com.google.code.findbugs:jsr305:jar:2.0.1 in the shaded jar.\n",
            "[\u001b[1;34mINFO\u001b[m] Including com.github.TREMA-UNH:trec-car-tools-java:jar:13 in the shaded jar.\n",
            "[\u001b[1;34mINFO\u001b[m] Including co.nstant.in:cbor:jar:0.7 in the shaded jar.\n",
            "[\u001b[1;34mINFO\u001b[m] Including org.jetbrains:annotations-java5:jar:19.0.0 in the shaded jar.\n",
            "[\u001b[1;34mINFO\u001b[m] Including org.apache.commons:commons-pool2:jar:2.6.0 in the shaded jar.\n",
            "[\u001b[1;34mINFO\u001b[m] Including org.wikidata.wdtk:wdtk-dumpfiles:jar:0.10.0 in the shaded jar.\n",
            "[\u001b[1;34mINFO\u001b[m] Including org.wikidata.wdtk:wdtk-datamodel:jar:0.10.0 in the shaded jar.\n",
            "[\u001b[1;34mINFO\u001b[m] Including org.wikidata.wdtk:wdtk-util:jar:0.10.0 in the shaded jar.\n",
            "[\u001b[1;34mINFO\u001b[m] Including org.apache.commons:commons-compress:jar:1.18 in the shaded jar.\n",
            "[\u001b[1;34mINFO\u001b[m] Including org.wikidata.wdtk:wdtk-storage:jar:0.10.0 in the shaded jar.\n",
            "[\u001b[1;34mINFO\u001b[m] Including org.mockito:mockito-all:jar:1.10.19 in the shaded jar.\n",
            "[\u001b[1;34mINFO\u001b[m] Including org.jbibtex:jbibtex:jar:1.0.17 in the shaded jar.\n",
            "[\u001b[1;34mINFO\u001b[m] Including org.apache.commons:commons-csv:jar:1.8 in the shaded jar.\n",
            "[\u001b[1;33mWARNING\u001b[m] Discovered module-info.class. Shading will break its strong encapsulation.\n",
            "[\u001b[1;33mWARNING\u001b[m] Discovered module-info.class. Shading will break its strong encapsulation.\n",
            "[\u001b[1;33mWARNING\u001b[m] Discovered module-info.class. Shading will break its strong encapsulation.\n",
            "[\u001b[1;33mWARNING\u001b[m] Discovered module-info.class. Shading will break its strong encapsulation.\n",
            "[\u001b[1;33mWARNING\u001b[m] Discovered module-info.class. Shading will break its strong encapsulation.\n",
            "[\u001b[1;33mWARNING\u001b[m] jcl-over-slf4j-1.7.24.jar, commons-logging-1.1.3.jar define 6 overlapping classes: \n",
            "[\u001b[1;33mWARNING\u001b[m]   - org.apache.commons.logging.impl.SimpleLog$1\n",
            "[\u001b[1;33mWARNING\u001b[m]   - org.apache.commons.logging.Log\n",
            "[\u001b[1;33mWARNING\u001b[m]   - org.apache.commons.logging.impl.SimpleLog\n",
            "[\u001b[1;33mWARNING\u001b[m]   - org.apache.commons.logging.LogConfigurationException\n",
            "[\u001b[1;33mWARNING\u001b[m]   - org.apache.commons.logging.impl.NoOpLog\n",
            "[\u001b[1;33mWARNING\u001b[m]   - org.apache.commons.logging.LogFactory\n",
            "[\u001b[1;33mWARNING\u001b[m] maven-shade-plugin has detected that some class files are\n",
            "[\u001b[1;33mWARNING\u001b[m] present in two or more JARs. When this happens, only one\n",
            "[\u001b[1;33mWARNING\u001b[m] single version of the class is copied to the uber jar.\n",
            "[\u001b[1;33mWARNING\u001b[m] Usually this is not harmful and you can skip these warnings,\n",
            "[\u001b[1;33mWARNING\u001b[m] otherwise try to manually exclude artifacts based on\n",
            "[\u001b[1;33mWARNING\u001b[m] mvn dependency:tree -Ddetail=true and the above output.\n",
            "[\u001b[1;33mWARNING\u001b[m] See http://maven.apache.org/plugins/maven-shade-plugin/\n",
            "[\u001b[1;34mINFO\u001b[m] Attaching shaded artifact.\n",
            "[\u001b[1;34mINFO\u001b[m] \n",
            "[\u001b[1;34mINFO\u001b[m] \u001b[1m--- \u001b[0;32mappassembler-maven-plugin:2.0.0:assemble\u001b[m \u001b[1m(default-cli)\u001b[m @ \u001b[36manserini\u001b[0;1m ---\u001b[m\n",
            "[\u001b[1;34mINFO\u001b[m] Installing artifact /root/.m2/repository/org/apache/lucene/lucene-core/8.3.0/lucene-core-8.3.0.jar to /content/insite_retrieve/insite_retrieve/insite_retrieve/insite_retrieve/insite_retrieve/anserini/target/appassembler/repo/lucene-core-8.3.0.jar\n",
            "[\u001b[1;34mINFO\u001b[m] Installing artifact /root/.m2/repository/org/apache/solr/solr-solrj/8.3.0/solr-solrj-8.3.0.jar to /content/insite_retrieve/insite_retrieve/insite_retrieve/insite_retrieve/insite_retrieve/anserini/target/appassembler/repo/solr-solrj-8.3.0.jar\n",
            "[\u001b[1;34mINFO\u001b[m] Installing artifact /root/.m2/repository/commons-io/commons-io/2.5/commons-io-2.5.jar to /content/insite_retrieve/insite_retrieve/insite_retrieve/insite_retrieve/insite_retrieve/anserini/target/appassembler/repo/commons-io-2.5.jar\n",
            "[\u001b[1;34mINFO\u001b[m] Installing artifact /root/.m2/repository/io/netty/netty-buffer/4.1.29.Final/netty-buffer-4.1.29.Final.jar to /content/insite_retrieve/insite_retrieve/insite_retrieve/insite_retrieve/insite_retrieve/anserini/target/appassembler/repo/netty-buffer-4.1.29.Final.jar\n",
            "[\u001b[1;34mINFO\u001b[m] Installing artifact /root/.m2/repository/io/netty/netty-codec/4.1.29.Final/netty-codec-4.1.29.Final.jar to /content/insite_retrieve/insite_retrieve/insite_retrieve/insite_retrieve/insite_retrieve/anserini/target/appassembler/repo/netty-codec-4.1.29.Final.jar\n",
            "[\u001b[1;34mINFO\u001b[m] Installing artifact /root/.m2/repository/io/netty/netty-common/4.1.29.Final/netty-common-4.1.29.Final.jar to /content/insite_retrieve/insite_retrieve/insite_retrieve/insite_retrieve/insite_retrieve/anserini/target/appassembler/repo/netty-common-4.1.29.Final.jar\n",
            "[\u001b[1;34mINFO\u001b[m] Installing artifact /root/.m2/repository/io/netty/netty-handler/4.1.29.Final/netty-handler-4.1.29.Final.jar to /content/insite_retrieve/insite_retrieve/insite_retrieve/insite_retrieve/insite_retrieve/anserini/target/appassembler/repo/netty-handler-4.1.29.Final.jar\n",
            "[\u001b[1;34mINFO\u001b[m] Installing artifact /root/.m2/repository/io/netty/netty-resolver/4.1.29.Final/netty-resolver-4.1.29.Final.jar to /content/insite_retrieve/insite_retrieve/insite_retrieve/insite_retrieve/insite_retrieve/anserini/target/appassembler/repo/netty-resolver-4.1.29.Final.jar\n",
            "[\u001b[1;34mINFO\u001b[m] Installing artifact /root/.m2/repository/io/netty/netty-transport/4.1.29.Final/netty-transport-4.1.29.Final.jar to /content/insite_retrieve/insite_retrieve/insite_retrieve/insite_retrieve/insite_retrieve/anserini/target/appassembler/repo/netty-transport-4.1.29.Final.jar\n",
            "[\u001b[1;34mINFO\u001b[m] Installing artifact /root/.m2/repository/io/netty/netty-transport-native-epoll/4.1.29.Final/netty-transport-native-epoll-4.1.29.Final.jar to /content/insite_retrieve/insite_retrieve/insite_retrieve/insite_retrieve/insite_retrieve/anserini/target/appassembler/repo/netty-transport-native-epoll-4.1.29.Final.jar\n",
            "[\u001b[1;34mINFO\u001b[m] Installing artifact /root/.m2/repository/io/netty/netty-transport-native-unix-common/4.1.29.Final/netty-transport-native-unix-common-4.1.29.Final.jar to /content/insite_retrieve/insite_retrieve/insite_retrieve/insite_retrieve/insite_retrieve/anserini/target/appassembler/repo/netty-transport-native-unix-common-4.1.29.Final.jar\n",
            "[\u001b[1;34mINFO\u001b[m] Installing artifact /root/.m2/repository/org/apache/commons/commons-math3/3.6.1/commons-math3-3.6.1.jar to /content/insite_retrieve/insite_retrieve/insite_retrieve/insite_retrieve/insite_retrieve/anserini/target/appassembler/repo/commons-math3-3.6.1.jar\n",
            "[\u001b[1;34mINFO\u001b[m] Installing artifact /root/.m2/repository/org/apache/httpcomponents/httpclient/4.5.6/httpclient-4.5.6.jar to /content/insite_retrieve/insite_retrieve/insite_retrieve/insite_retrieve/insite_retrieve/anserini/target/appassembler/repo/httpclient-4.5.6.jar\n",
            "[\u001b[1;34mINFO\u001b[m] Installing artifact /root/.m2/repository/org/apache/httpcomponents/httpcore/4.4.10/httpcore-4.4.10.jar to /content/insite_retrieve/insite_retrieve/insite_retrieve/insite_retrieve/insite_retrieve/anserini/target/appassembler/repo/httpcore-4.4.10.jar\n",
            "[\u001b[1;34mINFO\u001b[m] Installing artifact /root/.m2/repository/org/apache/httpcomponents/httpmime/4.5.6/httpmime-4.5.6.jar to /content/insite_retrieve/insite_retrieve/insite_retrieve/insite_retrieve/insite_retrieve/anserini/target/appassembler/repo/httpmime-4.5.6.jar\n",
            "[\u001b[1;34mINFO\u001b[m] Installing artifact /root/.m2/repository/org/apache/zookeeper/zookeeper/3.5.5/zookeeper-3.5.5.jar to /content/insite_retrieve/insite_retrieve/insite_retrieve/insite_retrieve/insite_retrieve/anserini/target/appassembler/repo/zookeeper-3.5.5.jar\n",
            "[\u001b[1;34mINFO\u001b[m] Installing artifact /root/.m2/repository/org/apache/zookeeper/zookeeper-jute/3.5.5/zookeeper-jute-3.5.5.jar to /content/insite_retrieve/insite_retrieve/insite_retrieve/insite_retrieve/insite_retrieve/anserini/target/appassembler/repo/zookeeper-jute-3.5.5.jar\n",
            "[\u001b[1;34mINFO\u001b[m] Installing artifact /root/.m2/repository/org/codehaus/woodstox/stax2-api/3.1.4/stax2-api-3.1.4.jar to /content/insite_retrieve/insite_retrieve/insite_retrieve/insite_retrieve/insite_retrieve/anserini/target/appassembler/repo/stax2-api-3.1.4.jar\n",
            "[\u001b[1;34mINFO\u001b[m] Installing artifact /root/.m2/repository/org/codehaus/woodstox/woodstox-core-asl/4.4.1/woodstox-core-asl-4.4.1.jar to /content/insite_retrieve/insite_retrieve/insite_retrieve/insite_retrieve/insite_retrieve/anserini/target/appassembler/repo/woodstox-core-asl-4.4.1.jar\n",
            "[\u001b[1;34mINFO\u001b[m] Installing artifact /root/.m2/repository/org/eclipse/jetty/jetty-alpn-client/9.4.19.v20190610/jetty-alpn-client-9.4.19.v20190610.jar to /content/insite_retrieve/insite_retrieve/insite_retrieve/insite_retrieve/insite_retrieve/anserini/target/appassembler/repo/jetty-alpn-client-9.4.19.v20190610.jar\n",
            "[\u001b[1;34mINFO\u001b[m] Installing artifact /root/.m2/repository/org/eclipse/jetty/jetty-alpn-java-client/9.4.19.v20190610/jetty-alpn-java-client-9.4.19.v20190610.jar to /content/insite_retrieve/insite_retrieve/insite_retrieve/insite_retrieve/insite_retrieve/anserini/target/appassembler/repo/jetty-alpn-java-client-9.4.19.v20190610.jar\n",
            "[\u001b[1;34mINFO\u001b[m] Installing artifact /root/.m2/repository/org/eclipse/jetty/jetty-client/9.4.19.v20190610/jetty-client-9.4.19.v20190610.jar to /content/insite_retrieve/insite_retrieve/insite_retrieve/insite_retrieve/insite_retrieve/anserini/target/appassembler/repo/jetty-client-9.4.19.v20190610.jar\n",
            "[\u001b[1;34mINFO\u001b[m] Installing artifact /root/.m2/repository/org/eclipse/jetty/jetty-http/9.4.19.v20190610/jetty-http-9.4.19.v20190610.jar to /content/insite_retrieve/insite_retrieve/insite_retrieve/insite_retrieve/insite_retrieve/anserini/target/appassembler/repo/jetty-http-9.4.19.v20190610.jar\n",
            "[\u001b[1;34mINFO\u001b[m] Installing artifact /root/.m2/repository/org/eclipse/jetty/jetty-io/9.4.19.v20190610/jetty-io-9.4.19.v20190610.jar to /content/insite_retrieve/insite_retrieve/insite_retrieve/insite_retrieve/insite_retrieve/anserini/target/appassembler/repo/jetty-io-9.4.19.v20190610.jar\n",
            "[\u001b[1;34mINFO\u001b[m] Installing artifact /root/.m2/repository/org/eclipse/jetty/jetty-util/9.4.19.v20190610/jetty-util-9.4.19.v20190610.jar to /content/insite_retrieve/insite_retrieve/insite_retrieve/insite_retrieve/insite_retrieve/anserini/target/appassembler/repo/jetty-util-9.4.19.v20190610.jar\n",
            "[\u001b[1;34mINFO\u001b[m] Installing artifact /root/.m2/repository/org/eclipse/jetty/http2/http2-client/9.4.19.v20190610/http2-client-9.4.19.v20190610.jar to /content/insite_retrieve/insite_retrieve/insite_retrieve/insite_retrieve/insite_retrieve/anserini/target/appassembler/repo/http2-client-9.4.19.v20190610.jar\n",
            "[\u001b[1;34mINFO\u001b[m] Installing artifact /root/.m2/repository/org/eclipse/jetty/http2/http2-common/9.4.19.v20190610/http2-common-9.4.19.v20190610.jar to /content/insite_retrieve/insite_retrieve/insite_retrieve/insite_retrieve/insite_retrieve/anserini/target/appassembler/repo/http2-common-9.4.19.v20190610.jar\n",
            "[\u001b[1;34mINFO\u001b[m] Installing artifact /root/.m2/repository/org/eclipse/jetty/http2/http2-hpack/9.4.19.v20190610/http2-hpack-9.4.19.v20190610.jar to /content/insite_retrieve/insite_retrieve/insite_retrieve/insite_retrieve/insite_retrieve/anserini/target/appassembler/repo/http2-hpack-9.4.19.v20190610.jar\n",
            "[\u001b[1;34mINFO\u001b[m] Installing artifact /root/.m2/repository/org/eclipse/jetty/http2/http2-http-client-transport/9.4.19.v20190610/http2-http-client-transport-9.4.19.v20190610.jar to /content/insite_retrieve/insite_retrieve/insite_retrieve/insite_retrieve/insite_retrieve/anserini/target/appassembler/repo/http2-http-client-transport-9.4.19.v20190610.jar\n",
            "[\u001b[1;34mINFO\u001b[m] Installing artifact /root/.m2/repository/org/slf4j/jcl-over-slf4j/1.7.24/jcl-over-slf4j-1.7.24.jar to /content/insite_retrieve/insite_retrieve/insite_retrieve/insite_retrieve/insite_retrieve/anserini/target/appassembler/repo/jcl-over-slf4j-1.7.24.jar\n",
            "[\u001b[1;34mINFO\u001b[m] Installing artifact /root/.m2/repository/org/slf4j/slf4j-api/1.7.24/slf4j-api-1.7.24.jar to /content/insite_retrieve/insite_retrieve/insite_retrieve/insite_retrieve/insite_retrieve/anserini/target/appassembler/repo/slf4j-api-1.7.24.jar\n",
            "[\u001b[1;34mINFO\u001b[m] Installing artifact /root/.m2/repository/org/elasticsearch/client/elasticsearch-rest-high-level-client/7.0.0/elasticsearch-rest-high-level-client-7.0.0.jar to /content/insite_retrieve/insite_retrieve/insite_retrieve/insite_retrieve/insite_retrieve/anserini/target/appassembler/repo/elasticsearch-rest-high-level-client-7.0.0.jar\n",
            "[\u001b[1;34mINFO\u001b[m] Installing artifact /root/.m2/repository/org/elasticsearch/elasticsearch/7.0.0/elasticsearch-7.0.0.jar to /content/insite_retrieve/insite_retrieve/insite_retrieve/insite_retrieve/insite_retrieve/anserini/target/appassembler/repo/elasticsearch-7.0.0.jar\n",
            "[\u001b[1;34mINFO\u001b[m] Installing artifact /root/.m2/repository/org/elasticsearch/elasticsearch-core/7.0.0/elasticsearch-core-7.0.0.jar to /content/insite_retrieve/insite_retrieve/insite_retrieve/insite_retrieve/insite_retrieve/anserini/target/appassembler/repo/elasticsearch-core-7.0.0.jar\n",
            "[\u001b[1;34mINFO\u001b[m] Installing artifact /root/.m2/repository/org/elasticsearch/elasticsearch-secure-sm/7.0.0/elasticsearch-secure-sm-7.0.0.jar to /content/insite_retrieve/insite_retrieve/insite_retrieve/insite_retrieve/insite_retrieve/anserini/target/appassembler/repo/elasticsearch-secure-sm-7.0.0.jar\n",
            "[\u001b[1;34mINFO\u001b[m] Installing artifact /root/.m2/repository/org/elasticsearch/elasticsearch-x-content/7.0.0/elasticsearch-x-content-7.0.0.jar to /content/insite_retrieve/insite_retrieve/insite_retrieve/insite_retrieve/insite_retrieve/anserini/target/appassembler/repo/elasticsearch-x-content-7.0.0.jar\n",
            "[\u001b[1;34mINFO\u001b[m] Installing artifact /root/.m2/repository/com/fasterxml/jackson/dataformat/jackson-dataformat-smile/2.8.11/jackson-dataformat-smile-2.8.11.jar to /content/insite_retrieve/insite_retrieve/insite_retrieve/insite_retrieve/insite_retrieve/anserini/target/appassembler/repo/jackson-dataformat-smile-2.8.11.jar\n",
            "[\u001b[1;34mINFO\u001b[m] Installing artifact /root/.m2/repository/com/fasterxml/jackson/dataformat/jackson-dataformat-cbor/2.8.11/jackson-dataformat-cbor-2.8.11.jar to /content/insite_retrieve/insite_retrieve/insite_retrieve/insite_retrieve/insite_retrieve/anserini/target/appassembler/repo/jackson-dataformat-cbor-2.8.11.jar\n",
            "[\u001b[1;34mINFO\u001b[m] Installing artifact /root/.m2/repository/org/elasticsearch/elasticsearch-geo/7.0.0/elasticsearch-geo-7.0.0.jar to /content/insite_retrieve/insite_retrieve/insite_retrieve/insite_retrieve/insite_retrieve/anserini/target/appassembler/repo/elasticsearch-geo-7.0.0.jar\n",
            "[\u001b[1;34mINFO\u001b[m] Installing artifact /root/.m2/repository/org/apache/lucene/lucene-analyzers-common/8.0.0/lucene-analyzers-common-8.0.0.jar to /content/insite_retrieve/insite_retrieve/insite_retrieve/insite_retrieve/insite_retrieve/anserini/target/appassembler/repo/lucene-analyzers-common-8.0.0.jar\n",
            "[\u001b[1;34mINFO\u001b[m] Installing artifact /root/.m2/repository/org/apache/lucene/lucene-backward-codecs/8.0.0/lucene-backward-codecs-8.0.0.jar to /content/insite_retrieve/insite_retrieve/insite_retrieve/insite_retrieve/insite_retrieve/anserini/target/appassembler/repo/lucene-backward-codecs-8.0.0.jar\n",
            "[\u001b[1;34mINFO\u001b[m] Installing artifact /root/.m2/repository/org/apache/lucene/lucene-grouping/8.0.0/lucene-grouping-8.0.0.jar to /content/insite_retrieve/insite_retrieve/insite_retrieve/insite_retrieve/insite_retrieve/anserini/target/appassembler/repo/lucene-grouping-8.0.0.jar\n",
            "[\u001b[1;34mINFO\u001b[m] Installing artifact /root/.m2/repository/org/apache/lucene/lucene-highlighter/8.0.0/lucene-highlighter-8.0.0.jar to /content/insite_retrieve/insite_retrieve/insite_retrieve/insite_retrieve/insite_retrieve/anserini/target/appassembler/repo/lucene-highlighter-8.0.0.jar\n",
            "[\u001b[1;34mINFO\u001b[m] Installing artifact /root/.m2/repository/org/apache/lucene/lucene-join/8.0.0/lucene-join-8.0.0.jar to /content/insite_retrieve/insite_retrieve/insite_retrieve/insite_retrieve/insite_retrieve/anserini/target/appassembler/repo/lucene-join-8.0.0.jar\n",
            "[\u001b[1;34mINFO\u001b[m] Installing artifact /root/.m2/repository/org/apache/lucene/lucene-memory/8.0.0/lucene-memory-8.0.0.jar to /content/insite_retrieve/insite_retrieve/insite_retrieve/insite_retrieve/insite_retrieve/anserini/target/appassembler/repo/lucene-memory-8.0.0.jar\n",
            "[\u001b[1;34mINFO\u001b[m] Installing artifact /root/.m2/repository/org/apache/lucene/lucene-misc/8.0.0/lucene-misc-8.0.0.jar to /content/insite_retrieve/insite_retrieve/insite_retrieve/insite_retrieve/insite_retrieve/anserini/target/appassembler/repo/lucene-misc-8.0.0.jar\n",
            "[\u001b[1;34mINFO\u001b[m] Installing artifact /root/.m2/repository/org/apache/lucene/lucene-queries/8.0.0/lucene-queries-8.0.0.jar to /content/insite_retrieve/insite_retrieve/insite_retrieve/insite_retrieve/insite_retrieve/anserini/target/appassembler/repo/lucene-queries-8.0.0.jar\n",
            "[\u001b[1;34mINFO\u001b[m] Installing artifact /root/.m2/repository/org/apache/lucene/lucene-queryparser/8.0.0/lucene-queryparser-8.0.0.jar to /content/insite_retrieve/insite_retrieve/insite_retrieve/insite_retrieve/insite_retrieve/anserini/target/appassembler/repo/lucene-queryparser-8.0.0.jar\n",
            "[\u001b[1;34mINFO\u001b[m] Installing artifact /root/.m2/repository/org/apache/lucene/lucene-sandbox/8.0.0/lucene-sandbox-8.0.0.jar to /content/insite_retrieve/insite_retrieve/insite_retrieve/insite_retrieve/insite_retrieve/anserini/target/appassembler/repo/lucene-sandbox-8.0.0.jar\n",
            "[\u001b[1;34mINFO\u001b[m] Installing artifact /root/.m2/repository/org/apache/lucene/lucene-spatial/8.0.0/lucene-spatial-8.0.0.jar to /content/insite_retrieve/insite_retrieve/insite_retrieve/insite_retrieve/insite_retrieve/anserini/target/appassembler/repo/lucene-spatial-8.0.0.jar\n",
            "[\u001b[1;34mINFO\u001b[m] Installing artifact /root/.m2/repository/org/apache/lucene/lucene-spatial-extras/8.0.0/lucene-spatial-extras-8.0.0.jar to /content/insite_retrieve/insite_retrieve/insite_retrieve/insite_retrieve/insite_retrieve/anserini/target/appassembler/repo/lucene-spatial-extras-8.0.0.jar\n",
            "[\u001b[1;34mINFO\u001b[m] Installing artifact /root/.m2/repository/org/apache/lucene/lucene-spatial3d/8.0.0/lucene-spatial3d-8.0.0.jar to /content/insite_retrieve/insite_retrieve/insite_retrieve/insite_retrieve/insite_retrieve/anserini/target/appassembler/repo/lucene-spatial3d-8.0.0.jar\n",
            "[\u001b[1;34mINFO\u001b[m] Installing artifact /root/.m2/repository/org/apache/lucene/lucene-suggest/8.0.0/lucene-suggest-8.0.0.jar to /content/insite_retrieve/insite_retrieve/insite_retrieve/insite_retrieve/insite_retrieve/anserini/target/appassembler/repo/lucene-suggest-8.0.0.jar\n",
            "[\u001b[1;34mINFO\u001b[m] Installing artifact /root/.m2/repository/org/elasticsearch/elasticsearch-cli/7.0.0/elasticsearch-cli-7.0.0.jar to /content/insite_retrieve/insite_retrieve/insite_retrieve/insite_retrieve/insite_retrieve/anserini/target/appassembler/repo/elasticsearch-cli-7.0.0.jar\n",
            "[\u001b[1;34mINFO\u001b[m] Installing artifact /root/.m2/repository/net/sf/jopt-simple/jopt-simple/5.0.2/jopt-simple-5.0.2.jar to /content/insite_retrieve/insite_retrieve/insite_retrieve/insite_retrieve/insite_retrieve/anserini/target/appassembler/repo/jopt-simple-5.0.2.jar\n",
            "[\u001b[1;34mINFO\u001b[m] Installing artifact /root/.m2/repository/com/carrotsearch/hppc/0.7.1/hppc-0.7.1.jar to /content/insite_retrieve/insite_retrieve/insite_retrieve/insite_retrieve/insite_retrieve/anserini/target/appassembler/repo/hppc-0.7.1.jar\n",
            "[\u001b[1;34mINFO\u001b[m] Installing artifact /root/.m2/repository/joda-time/joda-time/2.10.1/joda-time-2.10.1.jar to /content/insite_retrieve/insite_retrieve/insite_retrieve/insite_retrieve/insite_retrieve/anserini/target/appassembler/repo/joda-time-2.10.1.jar\n",
            "[\u001b[1;34mINFO\u001b[m] Installing artifact /root/.m2/repository/com/tdunning/t-digest/3.2/t-digest-3.2.jar to /content/insite_retrieve/insite_retrieve/insite_retrieve/insite_retrieve/insite_retrieve/anserini/target/appassembler/repo/t-digest-3.2.jar\n",
            "[\u001b[1;34mINFO\u001b[m] Installing artifact /root/.m2/repository/org/hdrhistogram/HdrHistogram/2.1.9/HdrHistogram-2.1.9.jar to /content/insite_retrieve/insite_retrieve/insite_retrieve/insite_retrieve/insite_retrieve/anserini/target/appassembler/repo/HdrHistogram-2.1.9.jar\n",
            "[\u001b[1;34mINFO\u001b[m] Installing artifact /root/.m2/repository/org/elasticsearch/jna/4.5.1/jna-4.5.1.jar to /content/insite_retrieve/insite_retrieve/insite_retrieve/insite_retrieve/insite_retrieve/anserini/target/appassembler/repo/jna-4.5.1.jar\n",
            "[\u001b[1;34mINFO\u001b[m] Installing artifact /root/.m2/repository/org/elasticsearch/client/elasticsearch-rest-client/7.0.0/elasticsearch-rest-client-7.0.0.jar to /content/insite_retrieve/insite_retrieve/insite_retrieve/insite_retrieve/insite_retrieve/anserini/target/appassembler/repo/elasticsearch-rest-client-7.0.0.jar\n",
            "[\u001b[1;34mINFO\u001b[m] Installing artifact /root/.m2/repository/org/apache/httpcomponents/httpasyncclient/4.1.4/httpasyncclient-4.1.4.jar to /content/insite_retrieve/insite_retrieve/insite_retrieve/insite_retrieve/insite_retrieve/anserini/target/appassembler/repo/httpasyncclient-4.1.4.jar\n",
            "[\u001b[1;34mINFO\u001b[m] Installing artifact /root/.m2/repository/org/apache/httpcomponents/httpcore-nio/4.4.11/httpcore-nio-4.4.11.jar to /content/insite_retrieve/insite_retrieve/insite_retrieve/insite_retrieve/insite_retrieve/anserini/target/appassembler/repo/httpcore-nio-4.4.11.jar\n",
            "[\u001b[1;34mINFO\u001b[m] Installing artifact /root/.m2/repository/commons-codec/commons-codec/1.11/commons-codec-1.11.jar to /content/insite_retrieve/insite_retrieve/insite_retrieve/insite_retrieve/insite_retrieve/anserini/target/appassembler/repo/commons-codec-1.11.jar\n",
            "[\u001b[1;34mINFO\u001b[m] Installing artifact /root/.m2/repository/commons-logging/commons-logging/1.1.3/commons-logging-1.1.3.jar to /content/insite_retrieve/insite_retrieve/insite_retrieve/insite_retrieve/insite_retrieve/anserini/target/appassembler/repo/commons-logging-1.1.3.jar\n",
            "[\u001b[1;34mINFO\u001b[m] Installing artifact /root/.m2/repository/org/elasticsearch/plugin/parent-join-client/7.0.0/parent-join-client-7.0.0.jar to /content/insite_retrieve/insite_retrieve/insite_retrieve/insite_retrieve/insite_retrieve/anserini/target/appassembler/repo/parent-join-client-7.0.0.jar\n",
            "[\u001b[1;34mINFO\u001b[m] Installing artifact /root/.m2/repository/org/elasticsearch/plugin/aggs-matrix-stats-client/7.0.0/aggs-matrix-stats-client-7.0.0.jar to /content/insite_retrieve/insite_retrieve/insite_retrieve/insite_retrieve/insite_retrieve/anserini/target/appassembler/repo/aggs-matrix-stats-client-7.0.0.jar\n",
            "[\u001b[1;34mINFO\u001b[m] Installing artifact /root/.m2/repository/org/elasticsearch/plugin/rank-eval-client/7.0.0/rank-eval-client-7.0.0.jar to /content/insite_retrieve/insite_retrieve/insite_retrieve/insite_retrieve/insite_retrieve/anserini/target/appassembler/repo/rank-eval-client-7.0.0.jar\n",
            "[\u001b[1;34mINFO\u001b[m] Installing artifact /root/.m2/repository/org/elasticsearch/plugin/lang-mustache-client/7.0.0/lang-mustache-client-7.0.0.jar to /content/insite_retrieve/insite_retrieve/insite_retrieve/insite_retrieve/insite_retrieve/anserini/target/appassembler/repo/lang-mustache-client-7.0.0.jar\n",
            "[\u001b[1;34mINFO\u001b[m] Installing artifact /root/.m2/repository/com/github/spullara/mustache/java/compiler/0.9.3/compiler-0.9.3.jar to /content/insite_retrieve/insite_retrieve/insite_retrieve/insite_retrieve/insite_retrieve/anserini/target/appassembler/repo/compiler-0.9.3.jar\n",
            "[\u001b[1;34mINFO\u001b[m] Installing artifact /root/.m2/repository/org/tukaani/xz/1.5/xz-1.5.jar to /content/insite_retrieve/insite_retrieve/insite_retrieve/insite_retrieve/insite_retrieve/anserini/target/appassembler/repo/xz-1.5.jar\n",
            "[\u001b[1;34mINFO\u001b[m] Installing artifact /root/.m2/repository/com/fasterxml/jackson/core/jackson-databind/2.10.0.pr1/jackson-databind-2.10.0.pr1.jar to /content/insite_retrieve/insite_retrieve/insite_retrieve/insite_retrieve/insite_retrieve/anserini/target/appassembler/repo/jackson-databind-2.10.0.pr1.jar\n",
            "[\u001b[1;34mINFO\u001b[m] Installing artifact /root/.m2/repository/com/fasterxml/jackson/core/jackson-annotations/2.10.0.pr1/jackson-annotations-2.10.0.pr1.jar to /content/insite_retrieve/insite_retrieve/insite_retrieve/insite_retrieve/insite_retrieve/anserini/target/appassembler/repo/jackson-annotations-2.10.0.pr1.jar\n",
            "[\u001b[1;34mINFO\u001b[m] Installing artifact /root/.m2/repository/com/fasterxml/jackson/core/jackson-core/2.10.0.pr1/jackson-core-2.10.0.pr1.jar to /content/insite_retrieve/insite_retrieve/insite_retrieve/insite_retrieve/insite_retrieve/anserini/target/appassembler/repo/jackson-core-2.10.0.pr1.jar\n",
            "[\u001b[1;34mINFO\u001b[m] Installing artifact /root/.m2/repository/com/fasterxml/jackson/datatype/jackson-datatype-jdk8/2.10.0.pr1/jackson-datatype-jdk8-2.10.0.pr1.jar to /content/insite_retrieve/insite_retrieve/insite_retrieve/insite_retrieve/insite_retrieve/anserini/target/appassembler/repo/jackson-datatype-jdk8-2.10.0.pr1.jar\n",
            "[\u001b[1;34mINFO\u001b[m] Installing artifact /root/.m2/repository/com/fasterxml/jackson/dataformat/jackson-dataformat-yaml/2.10.0.pr1/jackson-dataformat-yaml-2.10.0.pr1.jar to /content/insite_retrieve/insite_retrieve/insite_retrieve/insite_retrieve/insite_retrieve/anserini/target/appassembler/repo/jackson-dataformat-yaml-2.10.0.pr1.jar\n",
            "[\u001b[1;34mINFO\u001b[m] Installing artifact /root/.m2/repository/org/yaml/snakeyaml/1.24/snakeyaml-1.24.jar to /content/insite_retrieve/insite_retrieve/insite_retrieve/insite_retrieve/insite_retrieve/anserini/target/appassembler/repo/snakeyaml-1.24.jar\n",
            "[\u001b[1;34mINFO\u001b[m] Installing artifact /root/.m2/repository/org/jsoup/jsoup/1.8.3/jsoup-1.8.3.jar to /content/insite_retrieve/insite_retrieve/insite_retrieve/insite_retrieve/insite_retrieve/anserini/target/appassembler/repo/jsoup-1.8.3.jar\n",
            "[\u001b[1;34mINFO\u001b[m] Installing artifact /root/.m2/repository/args4j/args4j/2.32/args4j-2.32.jar to /content/insite_retrieve/insite_retrieve/insite_retrieve/insite_retrieve/insite_retrieve/anserini/target/appassembler/repo/args4j-2.32.jar\n",
            "[\u001b[1;34mINFO\u001b[m] Installing artifact /root/.m2/repository/org/apache/logging/log4j/log4j-api/2.12.1/log4j-api-2.12.1.jar to /content/insite_retrieve/insite_retrieve/insite_retrieve/insite_retrieve/insite_retrieve/anserini/target/appassembler/repo/log4j-api-2.12.1.jar\n",
            "[\u001b[1;34mINFO\u001b[m] Installing artifact /root/.m2/repository/org/apache/logging/log4j/log4j-core/2.12.1/log4j-core-2.12.1.jar to /content/insite_retrieve/insite_retrieve/insite_retrieve/insite_retrieve/insite_retrieve/anserini/target/appassembler/repo/log4j-core-2.12.1.jar\n",
            "[\u001b[1;34mINFO\u001b[m] Installing artifact /root/.m2/repository/org/slf4j/slf4j-simple/1.7.29/slf4j-simple-1.7.29.jar to /content/insite_retrieve/insite_retrieve/insite_retrieve/insite_retrieve/insite_retrieve/anserini/target/appassembler/repo/slf4j-simple-1.7.29.jar\n",
            "[\u001b[1;34mINFO\u001b[m] Installing artifact /root/.m2/repository/io/anserini/anserini-fastutil/6.5.6/anserini-fastutil-6.5.6.jar to /content/insite_retrieve/insite_retrieve/insite_retrieve/insite_retrieve/insite_retrieve/anserini/target/appassembler/repo/anserini-fastutil-6.5.6.jar\n",
            "[\u001b[1;34mINFO\u001b[m] Installing artifact /root/.m2/repository/org/wikiclean/wikiclean/1.1/wikiclean-1.1.jar to /content/insite_retrieve/insite_retrieve/insite_retrieve/insite_retrieve/insite_retrieve/anserini/target/appassembler/repo/wikiclean-1.1.jar\n",
            "[\u001b[1;34mINFO\u001b[m] Installing artifact /root/.m2/repository/org/apache/commons/commons-lang3/3.5/commons-lang3-3.5.jar to /content/insite_retrieve/insite_retrieve/insite_retrieve/insite_retrieve/insite_retrieve/anserini/target/appassembler/repo/commons-lang3-3.5.jar\n",
            "[\u001b[1;34mINFO\u001b[m] Installing artifact /root/.m2/repository/org/apache/ant/ant/1.9.1/ant-1.9.1.jar to /content/insite_retrieve/insite_retrieve/insite_retrieve/insite_retrieve/insite_retrieve/anserini/target/appassembler/repo/ant-1.9.1.jar\n",
            "[\u001b[1;34mINFO\u001b[m] Installing artifact /root/.m2/repository/org/apache/ant/ant-launcher/1.9.1/ant-launcher-1.9.1.jar to /content/insite_retrieve/insite_retrieve/insite_retrieve/insite_retrieve/insite_retrieve/anserini/target/appassembler/repo/ant-launcher-1.9.1.jar\n",
            "[\u001b[1;34mINFO\u001b[m] Installing artifact /root/.m2/repository/org/openrdf/sesame/sesame-rio-ntriples/4.1.2/sesame-rio-ntriples-4.1.2.jar to /content/insite_retrieve/insite_retrieve/insite_retrieve/insite_retrieve/insite_retrieve/anserini/target/appassembler/repo/sesame-rio-ntriples-4.1.2.jar\n",
            "[\u001b[1;34mINFO\u001b[m] Installing artifact /root/.m2/repository/org/openrdf/sesame/sesame-model/4.1.2/sesame-model-4.1.2.jar to /content/insite_retrieve/insite_retrieve/insite_retrieve/insite_retrieve/insite_retrieve/anserini/target/appassembler/repo/sesame-model-4.1.2.jar\n",
            "[\u001b[1;34mINFO\u001b[m] Installing artifact /root/.m2/repository/org/openrdf/sesame/sesame-util/4.1.2/sesame-util-4.1.2.jar to /content/insite_retrieve/insite_retrieve/insite_retrieve/insite_retrieve/insite_retrieve/anserini/target/appassembler/repo/sesame-util-4.1.2.jar\n",
            "[\u001b[1;34mINFO\u001b[m] Installing artifact /root/.m2/repository/com/google/guava/guava/18.0/guava-18.0.jar to /content/insite_retrieve/insite_retrieve/insite_retrieve/insite_retrieve/insite_retrieve/anserini/target/appassembler/repo/guava-18.0.jar\n",
            "[\u001b[1;34mINFO\u001b[m] Installing artifact /root/.m2/repository/org/openrdf/sesame/sesame-rio-api/4.1.2/sesame-rio-api-4.1.2.jar to /content/insite_retrieve/insite_retrieve/insite_retrieve/insite_retrieve/insite_retrieve/anserini/target/appassembler/repo/sesame-rio-api-4.1.2.jar\n",
            "[\u001b[1;34mINFO\u001b[m] Installing artifact /root/.m2/repository/org/openrdf/sesame/sesame-rio-datatypes/4.1.2/sesame-rio-datatypes-4.1.2.jar to /content/insite_retrieve/insite_retrieve/insite_retrieve/insite_retrieve/insite_retrieve/anserini/target/appassembler/repo/sesame-rio-datatypes-4.1.2.jar\n",
            "[\u001b[1;34mINFO\u001b[m] Installing artifact /root/.m2/repository/org/openrdf/sesame/sesame-rio-languages/4.1.2/sesame-rio-languages-4.1.2.jar to /content/insite_retrieve/insite_retrieve/insite_retrieve/insite_retrieve/insite_retrieve/anserini/target/appassembler/repo/sesame-rio-languages-4.1.2.jar\n",
            "[\u001b[1;34mINFO\u001b[m] Installing artifact /root/.m2/repository/com/twitter/twittertext/twitter-text/2.0.10/twitter-text-2.0.10.jar to /content/insite_retrieve/insite_retrieve/insite_retrieve/insite_retrieve/insite_retrieve/anserini/target/appassembler/repo/twitter-text-2.0.10.jar\n",
            "[\u001b[1;34mINFO\u001b[m] Installing artifact /root/.m2/repository/com/google/code/findbugs/jsr305/2.0.1/jsr305-2.0.1.jar to /content/insite_retrieve/insite_retrieve/insite_retrieve/insite_retrieve/insite_retrieve/anserini/target/appassembler/repo/jsr305-2.0.1.jar\n",
            "[\u001b[1;34mINFO\u001b[m] Installing artifact /root/.m2/repository/com/github/TREMA-UNH/trec-car-tools-java/13/trec-car-tools-java-13.jar to /content/insite_retrieve/insite_retrieve/insite_retrieve/insite_retrieve/insite_retrieve/anserini/target/appassembler/repo/trec-car-tools-java-13.jar\n",
            "[\u001b[1;34mINFO\u001b[m] Installing artifact /root/.m2/repository/co/nstant/in/cbor/0.7/cbor-0.7.jar to /content/insite_retrieve/insite_retrieve/insite_retrieve/insite_retrieve/insite_retrieve/anserini/target/appassembler/repo/cbor-0.7.jar\n",
            "[\u001b[1;34mINFO\u001b[m] Installing artifact /root/.m2/repository/org/jetbrains/annotations-java5/19.0.0/annotations-java5-19.0.0.jar to /content/insite_retrieve/insite_retrieve/insite_retrieve/insite_retrieve/insite_retrieve/anserini/target/appassembler/repo/annotations-java5-19.0.0.jar\n",
            "[\u001b[1;34mINFO\u001b[m] Installing artifact /root/.m2/repository/org/apache/commons/commons-pool2/2.6.0/commons-pool2-2.6.0.jar to /content/insite_retrieve/insite_retrieve/insite_retrieve/insite_retrieve/insite_retrieve/anserini/target/appassembler/repo/commons-pool2-2.6.0.jar\n",
            "[\u001b[1;34mINFO\u001b[m] Installing artifact /root/.m2/repository/org/wikidata/wdtk/wdtk-dumpfiles/0.10.0/wdtk-dumpfiles-0.10.0.jar to /content/insite_retrieve/insite_retrieve/insite_retrieve/insite_retrieve/insite_retrieve/anserini/target/appassembler/repo/wdtk-dumpfiles-0.10.0.jar\n",
            "[\u001b[1;34mINFO\u001b[m] Installing artifact /root/.m2/repository/org/wikidata/wdtk/wdtk-datamodel/0.10.0/wdtk-datamodel-0.10.0.jar to /content/insite_retrieve/insite_retrieve/insite_retrieve/insite_retrieve/insite_retrieve/anserini/target/appassembler/repo/wdtk-datamodel-0.10.0.jar\n",
            "[\u001b[1;34mINFO\u001b[m] Installing artifact /root/.m2/repository/org/wikidata/wdtk/wdtk-util/0.10.0/wdtk-util-0.10.0.jar to /content/insite_retrieve/insite_retrieve/insite_retrieve/insite_retrieve/insite_retrieve/anserini/target/appassembler/repo/wdtk-util-0.10.0.jar\n",
            "[\u001b[1;34mINFO\u001b[m] Installing artifact /root/.m2/repository/org/apache/commons/commons-compress/1.18/commons-compress-1.18.jar to /content/insite_retrieve/insite_retrieve/insite_retrieve/insite_retrieve/insite_retrieve/anserini/target/appassembler/repo/commons-compress-1.18.jar\n",
            "[\u001b[1;34mINFO\u001b[m] Installing artifact /root/.m2/repository/org/wikidata/wdtk/wdtk-storage/0.10.0/wdtk-storage-0.10.0.jar to /content/insite_retrieve/insite_retrieve/insite_retrieve/insite_retrieve/insite_retrieve/anserini/target/appassembler/repo/wdtk-storage-0.10.0.jar\n",
            "[\u001b[1;34mINFO\u001b[m] Installing artifact /root/.m2/repository/org/mockito/mockito-all/1.10.19/mockito-all-1.10.19.jar to /content/insite_retrieve/insite_retrieve/insite_retrieve/insite_retrieve/insite_retrieve/anserini/target/appassembler/repo/mockito-all-1.10.19.jar\n",
            "[\u001b[1;34mINFO\u001b[m] Installing artifact /root/.m2/repository/org/jbibtex/jbibtex/1.0.17/jbibtex-1.0.17.jar to /content/insite_retrieve/insite_retrieve/insite_retrieve/insite_retrieve/insite_retrieve/anserini/target/appassembler/repo/jbibtex-1.0.17.jar\n",
            "[\u001b[1;34mINFO\u001b[m] Installing artifact /root/.m2/repository/org/apache/commons/commons-csv/1.8/commons-csv-1.8.jar to /content/insite_retrieve/insite_retrieve/insite_retrieve/insite_retrieve/insite_retrieve/anserini/target/appassembler/repo/commons-csv-1.8.jar\n",
            "[\u001b[1;34mINFO\u001b[m] Installing artifact /content/insite_retrieve/insite_retrieve/insite_retrieve/insite_retrieve/insite_retrieve/anserini/target/anserini-0.9.5-SNAPSHOT.jar to /content/insite_retrieve/insite_retrieve/insite_retrieve/insite_retrieve/insite_retrieve/anserini/target/appassembler/repo/anserini-0.9.5-SNAPSHOT.jar\n",
            "[\u001b[1;34mINFO\u001b[m] \u001b[1m------------------------------------------------------------------------\u001b[m\n",
            "[\u001b[1;34mINFO\u001b[m] \u001b[1;32mBUILD SUCCESS\u001b[m\n",
            "[\u001b[1;34mINFO\u001b[m] \u001b[1m------------------------------------------------------------------------\u001b[m\n",
            "[\u001b[1;34mINFO\u001b[m] Total time:  31.083 s\n",
            "[\u001b[1;34mINFO\u001b[m] Finished at: 2020-07-18T22:45:52Z\n",
            "[\u001b[1;34mINFO\u001b[m] \u001b[1m------------------------------------------------------------------------\u001b[m\n",
            "/content/insite_retrieve/insite_retrieve/insite_retrieve/insite_retrieve/insite_retrieve\n"
          ],
          "name": "stdout"
        }
      ]
    },
    {
      "cell_type": "markdown",
      "metadata": {
        "id": "im1Roal6JE4i",
        "colab_type": "text"
      },
      "source": [
        "## Install Ngrok for running streamlit app on Google Colab"
      ]
    },
    {
      "cell_type": "code",
      "metadata": {
        "id": "KQQRF-RJENni",
        "colab_type": "code",
        "colab": {
          "base_uri": "https://localhost:8080/",
          "height": 204
        },
        "outputId": "1e71e170-f873-42b1-da31-f281bfb86028"
      },
      "source": [
        "!wget https://bin.equinox.io/c/4VmDzA7iaHb/ngrok-stable-linux-amd64.zip"
      ],
      "execution_count": 43,
      "outputs": [
        {
          "output_type": "stream",
          "text": [
            "--2020-07-18 22:46:22--  https://bin.equinox.io/c/4VmDzA7iaHb/ngrok-stable-linux-amd64.zip\n",
            "Resolving bin.equinox.io (bin.equinox.io)... 34.233.91.203, 52.203.87.192, 54.85.41.146, ...\n",
            "Connecting to bin.equinox.io (bin.equinox.io)|34.233.91.203|:443... connected.\n",
            "HTTP request sent, awaiting response... 200 OK\n",
            "Length: 13773305 (13M) [application/octet-stream]\n",
            "Saving to: ‘ngrok-stable-linux-amd64.zip’\n",
            "\n",
            "\r          ngrok-sta   0%[                    ]       0  --.-KB/s               \r         ngrok-stab  90%[=================>  ]  11.93M  59.4MB/s               \rngrok-stable-linux- 100%[===================>]  13.13M  61.8MB/s    in 0.2s    \n",
            "\n",
            "2020-07-18 22:46:22 (61.8 MB/s) - ‘ngrok-stable-linux-amd64.zip’ saved [13773305/13773305]\n",
            "\n"
          ],
          "name": "stdout"
        }
      ]
    },
    {
      "cell_type": "code",
      "metadata": {
        "id": "E3G9oYBeEPhD",
        "colab_type": "code",
        "colab": {
          "base_uri": "https://localhost:8080/",
          "height": 51
        },
        "outputId": "ad4382ac-0a02-42cf-caac-aa40e503b601"
      },
      "source": [
        "!unzip ngrok-stable-linux-amd64.zip"
      ],
      "execution_count": 44,
      "outputs": [
        {
          "output_type": "stream",
          "text": [
            "Archive:  ngrok-stable-linux-amd64.zip\n",
            "  inflating: ngrok                   \n"
          ],
          "name": "stdout"
        }
      ]
    },
    {
      "cell_type": "code",
      "metadata": {
        "id": "GT1kHW6RER0p",
        "colab_type": "code",
        "colab": {}
      },
      "source": [
        "get_ipython().system_raw('./ngrok http 8501 &')"
      ],
      "execution_count": 45,
      "outputs": []
    },
    {
      "cell_type": "code",
      "metadata": {
        "id": "yQz-qGOjETI0",
        "colab_type": "code",
        "colab": {
          "base_uri": "https://localhost:8080/",
          "height": 34
        },
        "outputId": "c646615d-0200-4b6f-8a5e-57831e13d592"
      },
      "source": [
        "!curl -s http://localhost:4040/api/tunnels | python3 -c \\\n",
        "    'import sys, json; print(\"Execute the next cell and the go to the following URL: \" +json.load(sys.stdin)[\"tunnels\"][0][\"public_url\"])'"
      ],
      "execution_count": 46,
      "outputs": [
        {
          "output_type": "stream",
          "text": [
            "Execute the next cell and the go to the following URL: https://eab8111c4bd7.ngrok.io\n"
          ],
          "name": "stdout"
        }
      ]
    },
    {
      "cell_type": "markdown",
      "metadata": {
        "id": "Cd5oEjfaJR3-",
        "colab_type": "text"
      },
      "source": [
        "## Run the app and then browse via https://eab8111c4bd7.ngrok.io"
      ]
    },
    {
      "cell_type": "code",
      "metadata": {
        "id": "A8D3W-sREVGD",
        "colab_type": "code",
        "colab": {
          "base_uri": "https://localhost:8080/",
          "height": 148
        },
        "outputId": "c7b6fb7c-cf16-423e-ac95-bde9d623e759"
      },
      "source": [
        "!streamlit run app.py"
      ],
      "execution_count": null,
      "outputs": [
        {
          "output_type": "stream",
          "text": [
            "\u001b[0m\n",
            "\u001b[34m\u001b[1m  You can now view your Streamlit app in your browser.\u001b[0m\n",
            "\u001b[0m\n",
            "\u001b[34m  Network URL: \u001b[0m\u001b[1mhttp://172.28.0.2:8501\u001b[0m\n",
            "\u001b[34m  External URL: \u001b[0m\u001b[1mhttp://34.73.89.30:8501\u001b[0m\n",
            "\u001b[0m\n"
          ],
          "name": "stdout"
        }
      ]
    }
  ]
}